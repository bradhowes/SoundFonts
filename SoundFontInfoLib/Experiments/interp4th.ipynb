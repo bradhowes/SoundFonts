{
 "metadata": {
  "language_info": {
   "codemirror_mode": {
    "name": "ipython",
    "version": 3
   },
   "file_extension": ".py",
   "mimetype": "text/x-python",
   "name": "python",
   "nbconvert_exporter": "python",
   "pygments_lexer": "ipython3",
   "version": "3.8.2-final"
  },
  "orig_nbformat": 2,
  "kernelspec": {
   "name": "python382jvsc74a57bd09ae79c28ae477751a911cbefc2a0d5f3143b03d067803c1b2d96115c7917b97a",
   "display_name": "Python 3.8.2 64-bit ('venv': venv)",
   "language": "python"
  }
 },
 "nbformat": 4,
 "nbformat_minor": 2,
 "cells": [
  {
   "cell_type": "code",
   "execution_count": 2,
   "metadata": {},
   "outputs": [],
   "source": [
    "import math"
   ]
  },
  {
   "cell_type": "code",
   "execution_count": 3,
   "metadata": {},
   "outputs": [],
   "source": [
    "weightsCount = 256\n",
    "weights = []\n",
    "for index in range(weightsCount):\n",
    "    x = float(index) / float(weightsCount)\n",
    "    weights.append(x * (-0.5 + x * (1 - 0.5 * x)))\n",
    "    weights.append(1.0 + x * x * (1.5 * x - 2.5))\n",
    "    weights.append(x * (0.5 + x * (2.0 - 1.5 * x)))\n",
    "    weights.append(0.5 * x * x * (x - 1.0))"
   ]
  },
  {
   "cell_type": "code",
   "execution_count": 13,
   "metadata": {},
   "outputs": [],
   "source": [
    "weights2 = []\n",
    "for index in range(weightsCount):\n",
    "    x = float(index) / float(weightsCount)\n",
    "    x_05 = 0.5 * x\n",
    "    x2 = x * x\n",
    "    x3 = x2 * x\n",
    "    x3_05 = 0.5 * x3\n",
    "    x3_15 = 1.5 * x3\n",
    "    weights2.append(-x3_05 +       x2 - x_05)\n",
    "    weights2.append( x3_15 - 2.5 * x2         + 1.0)\n",
    "    weights2.append(-x3_15 + 2.0 * x2 + x_05)\n",
    "    weights2.append( x3_05 - 0.5 * x2)"
   ]
  },
  {
   "cell_type": "code",
   "execution_count": 14,
   "metadata": {
    "tags": []
   },
   "outputs": [],
   "source": [
    "for index in range(weightsCount):\n",
    "    if weights[index] != weights2[index]:\n",
    "        print(index, weights[index], weights2[index])"
   ]
  },
  {
   "cell_type": "code",
   "execution_count": 15,
   "metadata": {},
   "outputs": [
    {
     "output_type": "stream",
     "name": "stdout",
     "text": [
      "-0.0\n1.0\n0.0\n-0.0\n"
     ]
    }
   ],
   "source": [
    "print(weights[0])\n",
    "print(weights[1])\n",
    "print(weights[2])\n",
    "print(weights[3])"
   ]
  },
  {
   "cell_type": "code",
   "execution_count": 19,
   "metadata": {},
   "outputs": [
    {
     "output_type": "stream",
     "name": "stdout",
     "text": [
      "-0.0625\n0.5625\n0.5625\n-0.0625\n"
     ]
    }
   ],
   "source": [
    "print(weights[512])\n",
    "print(weights[513])\n",
    "print(weights[514])\n",
    "print(weights[515])"
   ]
  },
  {
   "cell_type": "code",
   "execution_count": 20,
   "metadata": {},
   "outputs": [
    {
     "output_type": "stream",
     "name": "stdout",
     "text": [
      "-7.599592208862305e-06\n0.001983553171157837\n0.9999619424343109\n-0.0019378960132598877\n"
     ]
    }
   ],
   "source": [
    "print(weights[-4])\n",
    "print(weights[-3])\n",
    "print(weights[-2])\n",
    "print(weights[-1])"
   ]
  },
  {
   "cell_type": "code",
   "execution_count": null,
   "metadata": {},
   "outputs": [],
   "source": []
  }
 ]
}